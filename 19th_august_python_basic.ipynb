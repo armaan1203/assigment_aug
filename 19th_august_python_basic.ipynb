{
 "cells": [
  {
   "cell_type": "code",
   "execution_count": 49,
   "id": "c869039e-80e4-4e9b-a26d-a3d1b1e977cd",
   "metadata": {},
   "outputs": [],
   "source": [
    "x=34"
   ]
  },
  {
   "cell_type": "code",
   "execution_count": 50,
   "id": "84c7cc1c-444f-454e-82fd-c859c8e97af8",
   "metadata": {},
   "outputs": [],
   "source": [
    "y=43"
   ]
  },
  {
   "cell_type": "code",
   "execution_count": 51,
   "id": "055b9b12-c1d7-48fd-8019-282ec4d26bae",
   "metadata": {},
   "outputs": [],
   "source": [
    "x=y^x\n",
    "#swaps the value with y"
   ]
  },
  {
   "cell_type": "code",
   "execution_count": 52,
   "id": "96a4a360-bf51-4f9b-9367-439992c73afe",
   "metadata": {},
   "outputs": [],
   "source": [
    "y=x^y\n",
    "#swaps the value with x"
   ]
  },
  {
   "cell_type": "code",
   "execution_count": 53,
   "id": "2767366e-425b-48ca-a2ea-3c500ebb93c9",
   "metadata": {},
   "outputs": [
    {
     "data": {
      "text/plain": [
       "43"
      ]
     },
     "execution_count": 53,
     "metadata": {},
     "output_type": "execute_result"
    }
   ],
   "source": [
    "x"
   ]
  },
  {
   "cell_type": "code",
   "execution_count": 54,
   "id": "144ad09e-e210-4c43-964a-05fa45d4c4ed",
   "metadata": {},
   "outputs": [
    {
     "data": {
      "text/plain": [
       "34"
      ]
     },
     "execution_count": 54,
     "metadata": {},
     "output_type": "execute_result"
    }
   ],
   "source": [
    "y"
   ]
  },
  {
   "cell_type": "code",
   "execution_count": 7,
   "id": "3b45d417-adae-4b8f-a45d-335da5c02a18",
   "metadata": {},
   "outputs": [],
   "source": [
    "length=x\n",
    "width=y\n",
    "#giving the variabe to length and width"
   ]
  },
  {
   "cell_type": "code",
   "execution_count": 11,
   "id": "86543291-75b7-4329-90ce-de9161cb9e33",
   "metadata": {},
   "outputs": [
    {
     "name": "stdin",
     "output_type": "stream",
     "text": [
      " 67\n",
      " 50\n"
     ]
    }
   ],
   "source": [
    "x=int(input())\n",
    "y=int(input()) \n",
    "#taking input of length and width from user"
   ]
  },
  {
   "cell_type": "code",
   "execution_count": 12,
   "id": "bada0d23-620e-484f-8fda-0ad719e56d72",
   "metadata": {},
   "outputs": [],
   "source": [
    "area=length*width\n",
    "#formula to find area of rectangle"
   ]
  },
  {
   "cell_type": "raw",
   "id": "8d03b93a-a7c2-4c9f-add9-71f40ff80a86",
   "metadata": {},
   "source": [
    "print(area)"
   ]
  },
  {
   "cell_type": "code",
   "execution_count": 13,
   "id": "ac7ff73d-b2b1-415a-8cc6-c978838862cd",
   "metadata": {},
   "outputs": [
    {
     "name": "stdout",
     "output_type": "stream",
     "text": [
      "306\n"
     ]
    }
   ],
   "source": [
    "print(area)"
   ]
  },
  {
   "cell_type": "code",
   "execution_count": 14,
   "id": "f8389ad3-dd3c-45a3-a212-b99583f98c8e",
   "metadata": {},
   "outputs": [
    {
     "name": "stdin",
     "output_type": "stream",
     "text": [
      " 67.7\n"
     ]
    }
   ],
   "source": [
    "celsius=float(input())\n",
    "#taking value from user which is in float format"
   ]
  },
  {
   "cell_type": "code",
   "execution_count": 15,
   "id": "eb9fbbe6-e1d4-4e68-8969-c300c4ee544c",
   "metadata": {},
   "outputs": [],
   "source": [
    "Fahrenheit= (celsius *( 1.8) )+ 32\n",
    "#formula to convert celsius in fahrenheit"
   ]
  },
  {
   "cell_type": "code",
   "execution_count": 16,
   "id": "b2796587-7de0-489d-9031-97bf3d2c61ff",
   "metadata": {},
   "outputs": [
    {
     "name": "stdout",
     "output_type": "stream",
     "text": [
      "153.86\n"
     ]
    }
   ],
   "source": [
    "print(Fahrenheit)"
   ]
  },
  {
   "cell_type": "code",
   "execution_count": 17,
   "id": "ee4fcea3-98c4-4966-b246-a40bd6cf04bc",
   "metadata": {},
   "outputs": [
    {
     "name": "stdin",
     "output_type": "stream",
     "text": [
      " ('armaan',1,3,2,)\n"
     ]
    }
   ],
   "source": [
    "s1=input()\n",
    "#take the string from user"
   ]
  },
  {
   "cell_type": "code",
   "execution_count": 18,
   "id": "cf4e949b-7a84-4f24-b64b-f7206bafebb3",
   "metadata": {},
   "outputs": [
    {
     "data": {
      "text/plain": [
       "17"
      ]
     },
     "execution_count": 18,
     "metadata": {},
     "output_type": "execute_result"
    }
   ],
   "source": [
    "len(s1)\n",
    "#get the length of string"
   ]
  },
  {
   "cell_type": "code",
   "execution_count": 32,
   "id": "272db025-0534-43d0-b17c-fc6c9db553b0",
   "metadata": {},
   "outputs": [
    {
     "name": "stdin",
     "output_type": "stream",
     "text": [
      " 'my name is armaan what about you'\n"
     ]
    }
   ],
   "source": [
    "s2=input()\n",
    "#take the inut from the user"
   ]
  },
  {
   "cell_type": "code",
   "execution_count": 34,
   "id": "b350d409-93ce-4537-bf67-83e3a73f4897",
   "metadata": {},
   "outputs": [
    {
     "data": {
      "text/plain": [
       "6"
      ]
     },
     "execution_count": 34,
     "metadata": {},
     "output_type": "execute_result"
    }
   ],
   "source": [
    "s2.count('a')#count the number of a available in string"
   ]
  },
  {
   "cell_type": "code",
   "execution_count": 35,
   "id": "18e99fe5-96d0-41dd-a647-952b4cb5f916",
   "metadata": {},
   "outputs": [
    {
     "data": {
      "text/plain": [
       "1"
      ]
     },
     "execution_count": 35,
     "metadata": {},
     "output_type": "execute_result"
    }
   ],
   "source": [
    "s2.count('e')#count the number of e available in string"
   ]
  },
  {
   "cell_type": "code",
   "execution_count": 37,
   "id": "fdebacb4-4070-4202-b985-37d81d2cdbb1",
   "metadata": {},
   "outputs": [
    {
     "data": {
      "text/plain": [
       "1"
      ]
     },
     "execution_count": 37,
     "metadata": {},
     "output_type": "execute_result"
    }
   ],
   "source": [
    "s2.count('i')#count the number of i available in string"
   ]
  },
  {
   "cell_type": "code",
   "execution_count": 38,
   "id": "f572c752-8b15-4e7e-9311-81c16d7e71b5",
   "metadata": {},
   "outputs": [
    {
     "data": {
      "text/plain": [
       "2"
      ]
     },
     "execution_count": 38,
     "metadata": {},
     "output_type": "execute_result"
    }
   ],
   "source": [
    "s2.count('o')#count the number of o available in string"
   ]
  },
  {
   "cell_type": "code",
   "execution_count": 39,
   "id": "b307146a-1765-4b4f-8e8e-188d45309902",
   "metadata": {},
   "outputs": [
    {
     "data": {
      "text/plain": [
       "2"
      ]
     },
     "execution_count": 39,
     "metadata": {},
     "output_type": "execute_result"
    }
   ],
   "source": [
    "s2.count('u')#count the number of u available in string"
   ]
  },
  {
   "cell_type": "code",
   "execution_count": 40,
   "id": "72acb7d9-85e0-49f8-9338-d6edd1861aa9",
   "metadata": {},
   "outputs": [],
   "source": [
    "s3=('my name is armaan')"
   ]
  },
  {
   "cell_type": "code",
   "execution_count": 41,
   "id": "e289493a-94b4-4ca1-9dfc-09d12853fd72",
   "metadata": {},
   "outputs": [
    {
     "data": {
      "text/plain": [
       "'naamra si eman ym'"
      ]
     },
     "execution_count": 41,
     "metadata": {},
     "output_type": "execute_result"
    }
   ],
   "source": [
    "s3[::-1]\n",
    "#to print string in reverse "
   ]
  },
  {
   "cell_type": "code",
   "execution_count": 42,
   "id": "db0552ed-6e5b-4d05-8007-084d818ad20b",
   "metadata": {},
   "outputs": [],
   "source": [
    "s4='  my name is armaan   '"
   ]
  },
  {
   "cell_type": "code",
   "execution_count": 43,
   "id": "3ca3a623-2a57-4b18-b6bf-7219abb93245",
   "metadata": {},
   "outputs": [
    {
     "data": {
      "text/plain": [
       "'  my name is armaan   '"
      ]
     },
     "execution_count": 43,
     "metadata": {},
     "output_type": "execute_result"
    }
   ],
   "source": [
    "s4"
   ]
  },
  {
   "cell_type": "code",
   "execution_count": 44,
   "id": "35bfeada-e8df-4763-a4cf-f0fd07a185c2",
   "metadata": {},
   "outputs": [],
   "source": [
    "trimmed_s4=s4.strip()"
   ]
  },
  {
   "cell_type": "code",
   "execution_count": 45,
   "id": "813dd86e-4406-4f2b-802f-c767104fabd8",
   "metadata": {},
   "outputs": [
    {
     "name": "stdout",
     "output_type": "stream",
     "text": [
      "my name is armaan\n"
     ]
    }
   ],
   "source": [
    "print(trimmed_s4)"
   ]
  },
  {
   "cell_type": "code",
   "execution_count": null,
   "id": "53d991d9-5c0b-4405-bf21-1d617b995575",
   "metadata": {},
   "outputs": [],
   "source": []
  }
 ],
 "metadata": {
  "kernelspec": {
   "display_name": "Python 3 (ipykernel)",
   "language": "python",
   "name": "python3"
  },
  "language_info": {
   "codemirror_mode": {
    "name": "ipython",
    "version": 3
   },
   "file_extension": ".py",
   "mimetype": "text/x-python",
   "name": "python",
   "nbconvert_exporter": "python",
   "pygments_lexer": "ipython3",
   "version": "3.10.8"
  }
 },
 "nbformat": 4,
 "nbformat_minor": 5
}
